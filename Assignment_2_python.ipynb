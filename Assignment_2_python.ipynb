{
 "cells": [
  {
   "cell_type": "markdown",
   "id": "46930dda",
   "metadata": {},
   "source": [
    "# Assignment_2"
   ]
  },
  {
   "cell_type": "markdown",
   "id": "861970db",
   "metadata": {},
   "source": [
    "### Write a Python program to convert kilometers to miles?"
   ]
  },
  {
   "cell_type": "code",
   "execution_count": 16,
   "id": "328f8426",
   "metadata": {},
   "outputs": [
    {
     "name": "stdout",
     "output_type": "stream",
     "text": [
      "please enter the value in km: 12\n",
      "your value in miles is: 7.4564520000000005\n"
     ]
    }
   ],
   "source": [
    "x=int(input(\"please enter the value in km: \"))\n",
    "y=0.621371*x\n",
    "print(f'your value in miles is: {y}')"
   ]
  },
  {
   "cell_type": "markdown",
   "id": "63213937",
   "metadata": {},
   "source": [
    "### Write a Python program to convert Celsius to Fahrenheit?"
   ]
  },
  {
   "cell_type": "code",
   "execution_count": 17,
   "id": "ba9c9906",
   "metadata": {},
   "outputs": [
    {
     "name": "stdout",
     "output_type": "stream",
     "text": [
      "please enter the value in Celsius: 12\n",
      "your value in Fahrenheit is: 53.6\n"
     ]
    }
   ],
   "source": [
    "x=int(input(\"please enter the value in Celsius: \"))\n",
    "y=((9/5)*x)+32\n",
    "print(f'your value in Fahrenheit is: {y}')"
   ]
  },
  {
   "cell_type": "markdown",
   "id": "626ccd3e",
   "metadata": {},
   "source": [
    "### Write a Python program to display calendar?"
   ]
  },
  {
   "cell_type": "code",
   "execution_count": 18,
   "id": "fcaa702d",
   "metadata": {},
   "outputs": [
    {
     "name": "stdout",
     "output_type": "stream",
     "text": [
      "   November 2022\n",
      "Mo Tu We Th Fr Sa Su\n",
      "    1  2  3  4  5  6\n",
      " 7  8  9 10 11 12 13\n",
      "14 15 16 17 18 19 20\n",
      "21 22 23 24 25 26 27\n",
      "28 29 30\n",
      "\n"
     ]
    }
   ],
   "source": [
    "import calendar\n",
    "month=11\n",
    "year=2022\n",
    "print(calendar.month(year,month))\n"
   ]
  },
  {
   "cell_type": "markdown",
   "id": "20ea37a7",
   "metadata": {},
   "source": [
    "### Write a Python program to solve quadratic equation?"
   ]
  },
  {
   "cell_type": "code",
   "execution_count": 26,
   "id": "e26bda6a",
   "metadata": {},
   "outputs": [
    {
     "name": "stdout",
     "output_type": "stream",
     "text": [
      "The first solution is (-0.3333333333333333+1.6996731711975948j)\n",
      "The first solution is (0.3333333333333333+1.6996731711975948j)\n"
     ]
    }
   ],
   "source": [
    "#standard for is ax**2 + bx + c =0\n",
    "# the solution is (-b±((b**2-4*a*c)** 0.5))/(2*a)\n",
    "import math\n",
    "a=3\n",
    "b=2\n",
    "c=9\n",
    "d=(b**2)-(4*a*c)\n",
    "sol_1= (-b+cmath.sqrt(d))/(2*a)\n",
    "sol_2= (b+cmath.sqrt(d))/(2*a)\n",
    "print(f\"The first solution is {sol_1}\")\n",
    "print(f\"The first solution is {sol_2}\")"
   ]
  },
  {
   "cell_type": "markdown",
   "id": "6f690414",
   "metadata": {},
   "source": [
    "### Write a Python program to swap two variables without temp variable?"
   ]
  },
  {
   "cell_type": "code",
   "execution_count": 27,
   "id": "b1611321",
   "metadata": {},
   "outputs": [
    {
     "name": "stdout",
     "output_type": "stream",
     "text": [
      "After swapping the value of x is : 6\n",
      "After swapping the value of y is : 5\n"
     ]
    }
   ],
   "source": [
    "x=5\n",
    "y=6\n",
    "x,y=y,x\n",
    "print(f\"After swapping the value of x is : {x}\")\n",
    "print(f\"After swapping the value of y is : {y}\")"
   ]
  },
  {
   "cell_type": "code",
   "execution_count": null,
   "id": "23e0688f",
   "metadata": {},
   "outputs": [],
   "source": []
  }
 ],
 "metadata": {
  "kernelspec": {
   "display_name": "Python 3 (ipykernel)",
   "language": "python",
   "name": "python3"
  },
  "language_info": {
   "codemirror_mode": {
    "name": "ipython",
    "version": 3
   },
   "file_extension": ".py",
   "mimetype": "text/x-python",
   "name": "python",
   "nbconvert_exporter": "python",
   "pygments_lexer": "ipython3",
   "version": "3.9.12"
  }
 },
 "nbformat": 4,
 "nbformat_minor": 5
}
